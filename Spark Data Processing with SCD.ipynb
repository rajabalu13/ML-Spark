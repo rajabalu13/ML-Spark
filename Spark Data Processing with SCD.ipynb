{
 "cells": [
  {
   "cell_type": "code",
   "execution_count": 26,
   "metadata": {},
   "outputs": [],
   "source": [
    "\n",
    "import findspark\n",
    "findspark.init()\n",
    "import pyspark # only run after findspark.init()\n",
    "from pyspark.sql import SparkSession\n",
    "spark = SparkSession.builder.getOrCreate()"
   ]
  },
  {
   "cell_type": "code",
   "execution_count": 27,
   "metadata": {},
   "outputs": [],
   "source": [
    "\n",
    "file_location = \"C:/Users/Dinesh_2/Desktop/Patient_Dashboard_Active.csv\"\n",
    "file_type = \"csv\"\n",
    "\n",
    "# CSV options\n",
    "infer_schema = \"true\"\n",
    "first_row_is_header = \"true\"\n",
    "delimiter = \",\"\n",
    "\n",
    "# The applied options are for CSV files. For other file types, these will be ignored.\n",
    "df_vw = spark.read.format(file_type) \\\n",
    "  .option(\"header\", first_row_is_header) \\\n",
    "  .option(\"sep\", delimiter) \\\n",
    "  .option(\"encoding\", \"UTF-8\") \\\n",
    "  .load(file_location)\n"
   ]
  },
  {
   "cell_type": "code",
   "execution_count": 28,
   "metadata": {},
   "outputs": [
    {
     "name": "stdout",
     "output_type": "stream",
     "text": [
      "+--------------------+----------+-----------+--------------------+\n",
      "|             Patient|       DOB|        SSN|             Address|\n",
      "+--------------------+----------+-----------+--------------------+\n",
      "|     BARRIENTOS, EVA|05/22/1933|619-12-5310|8203 TELEGRAPH RD...|\n",
      "|  BOWIE, REGINALD D.|10/06/1955|270-38-5318|7716 PICKERING AV...|\n",
      "|  CANDELARIA, VICTOR|10/29/1961|       null|11500 DOLAN AVENU...|\n",
      "|  CANDELAS, REYNALDO|11/12/1953|       null|12120 CHANDLER BL...|\n",
      "|      CANTA, ARMINDA|08/31/1934|       null|3401 LEMON ST. RI...|\n",
      "|        CANTU, ELISA|10/07/1945|       null|1717 S WINERY AVE...|\n",
      "|  CASTRO, JENNIE (I)|06/20/1931|       null|12111 CHANDLER BL...|\n",
      "|       CHAO, FIDELIA|12/16/1940|549-58-9561|9925 LA ALAMEDA A...|\n",
      "|    COPE, LETCHER H.|08/18/1924|       null|6817 N. ROWELL AV...|\n",
      "|  COTTER, JACQUELINE|04/18/1963|564-17-8110|5400 STINE RD. BA...|\n",
      "|      CROCHET, CHASE|02/25/1991|       null|35 VERNON NEWPORT...|\n",
      "|   DAMICO, DENNIS B.|06/23/1945|564-64-2141|413 E. CYPRESS GL...|\n",
      "|    DANIELS, DANALIE|04/06/1957|562-08-9316|201 W. Wardlow Ro...|\n",
      "|DELGADO HARO, AMPARO|03/11/1939|561-29-6191|12229 CHANDLER BL...|\n",
      "|        DIAZ, GEORGE|02/22/1947|571-70-7023|11500 DOLAN AVE D...|\n",
      "|  EARNSHAW, PATRICIA|02/16/1950|       null|800 PROSPECT AVE ...|\n",
      "|      ESPARZA, JESUS|04/07/1956|568-13-8720|14857 ROSCOE BLVD...|\n",
      "|        EVANS, DINAH|05/01/1949|  545745881|1580 BROADWAY EL ...|\n",
      "|FITZPATRICK, MARY...|06/15/1937|549-46-5168|4012 LOMA VISTA R...|\n",
      "|   FRANKLIN, BARBARA|03/26/1935|       null|26933 CORNELL ST ...|\n",
      "+--------------------+----------+-----------+--------------------+\n",
      "only showing top 20 rows\n",
      "\n"
     ]
    }
   ],
   "source": [
    "df_tgt=df_vw.select('Patient','DOB','SSN','Address').distinct()\n",
    "df_src=df_vw.select('Patient','DOB','SSN','Address').distinct()\n",
    "df_tgt.show()"
   ]
  },
  {
   "cell_type": "code",
   "execution_count": 29,
   "metadata": {},
   "outputs": [
    {
     "data": {
      "text/plain": [
       "DataFrame[Patient: string, Date of Birth: string, SSN: string, ADDR: string]"
      ]
     },
     "execution_count": 29,
     "metadata": {},
     "output_type": "execute_result"
    }
   ],
   "source": [
    "\n",
    "df_tgt = df_tgt.withColumnRenamed('DOB','Date of Birth').withColumnRenamed('Address','ADDR')\n",
    "df_tgt"
   ]
  },
  {
   "cell_type": "code",
   "execution_count": 30,
   "metadata": {},
   "outputs": [
    {
     "name": "stdout",
     "output_type": "stream",
     "text": [
      "+--------------------+-------------+-----------+--------------------+\n",
      "|             Patient|Date of Birth|        SSN|                ADDR|\n",
      "+--------------------+-------------+-----------+--------------------+\n",
      "|     BARRIENTOS, EVA|   05/22/1933|619-12-5310|8203 TELEGRAPH RD...|\n",
      "|  BOWIE, REGINALD D.|   10/06/1955|270-38-5318|7716 PICKERING AV...|\n",
      "|  CANDELARIA, VICTOR|   10/29/1961|         NA|11500 DOLAN AVENU...|\n",
      "|  CANDELAS, REYNALDO|   11/12/1953|         NA|12120 CHANDLER BL...|\n",
      "|      CANTA, ARMINDA|   08/31/1934|         NA|3401 LEMON ST. RI...|\n",
      "|        CANTU, ELISA|   10/07/1945|         NA|1717 S WINERY AVE...|\n",
      "|  CASTRO, JENNIE (I)|   06/20/1931|         NA|12111 CHANDLER BL...|\n",
      "|       CHAO, FIDELIA|   12/16/1940|549-58-9561|9925 LA ALAMEDA A...|\n",
      "|    COPE, LETCHER H.|   08/18/1924|         NA|6817 N. ROWELL AV...|\n",
      "|  COTTER, JACQUELINE|   04/18/1963|564-17-8110|5400 STINE RD. BA...|\n",
      "|      CROCHET, CHASE|   02/25/1991|         NA|35 VERNON NEWPORT...|\n",
      "|   DAMICO, DENNIS B.|   06/23/1945|564-64-2141|413 E. CYPRESS GL...|\n",
      "|    DANIELS, DANALIE|   04/06/1957|562-08-9316|201 W. Wardlow Ro...|\n",
      "|DELGADO HARO, AMPARO|   03/11/1939|561-29-6191|12229 CHANDLER BL...|\n",
      "|        DIAZ, GEORGE|   02/22/1947|571-70-7023|11500 DOLAN AVE D...|\n",
      "|  EARNSHAW, PATRICIA|   02/16/1950|         NA|800 PROSPECT AVE ...|\n",
      "|      ESPARZA, JESUS|   04/07/1956|568-13-8720|14857 ROSCOE BLVD...|\n",
      "|        EVANS, DINAH|   05/01/1949|  545745881|1580 BROADWAY EL ...|\n",
      "|FITZPATRICK, MARY...|   06/15/1937|549-46-5168|4012 LOMA VISTA R...|\n",
      "|   FRANKLIN, BARBARA|   03/26/1935|         NA|26933 CORNELL ST ...|\n",
      "+--------------------+-------------+-----------+--------------------+\n",
      "only showing top 20 rows\n",
      "\n"
     ]
    }
   ],
   "source": [
    "\n",
    "df_tgt = df_tgt.fillna({'ADDR':'NA', 'SSN' : 'NA'})\n",
    "df_src = df_src.fillna({'Address':'NA', 'SSN' : 'NA'})\n",
    "df_tgt.show()"
   ]
  },
  {
   "cell_type": "code",
   "execution_count": 31,
   "metadata": {},
   "outputs": [
    {
     "name": "stdout",
     "output_type": "stream",
     "text": [
      "+--------------------+-------------+-----------+--------------------+--------------------+----------------+\n",
      "|             Patient|Date of Birth|        SSN|                ADDR|     DW_CREATED_DATE| DW_UPDATED_DATE|\n",
      "+--------------------+-------------+-----------+--------------------+--------------------+----------------+\n",
      "|     BARRIENTOS, EVA|   05/22/1933|619-12-5310|8203 TELEGRAPH RD...|2020-06-29 11:41:...|1900-01-01 00:00|\n",
      "|  BOWIE, REGINALD D.|   10/06/1955|270-38-5318|7716 PICKERING AV...|2020-06-29 11:41:...|1900-01-01 00:00|\n",
      "|  CANDELARIA, VICTOR|   10/29/1961|         NA|11500 DOLAN AVENU...|2020-06-29 11:41:...|1900-01-01 00:00|\n",
      "|  CANDELAS, REYNALDO|   11/12/1953|         NA|12120 CHANDLER BL...|2020-06-29 11:41:...|1900-01-01 00:00|\n",
      "|      CANTA, ARMINDA|   08/31/1934|         NA|3401 LEMON ST. RI...|2020-06-29 11:41:...|1900-01-01 00:00|\n",
      "|        CANTU, ELISA|   10/07/1945|         NA|1717 S WINERY AVE...|2020-06-29 11:41:...|1900-01-01 00:00|\n",
      "|  CASTRO, JENNIE (I)|   06/20/1931|         NA|12111 CHANDLER BL...|2020-06-29 11:41:...|1900-01-01 00:00|\n",
      "|       CHAO, FIDELIA|   12/16/1940|549-58-9561|9925 LA ALAMEDA A...|2020-06-29 11:41:...|1900-01-01 00:00|\n",
      "|    COPE, LETCHER H.|   08/18/1924|         NA|6817 N. ROWELL AV...|2020-06-29 11:41:...|1900-01-01 00:00|\n",
      "|  COTTER, JACQUELINE|   04/18/1963|564-17-8110|5400 STINE RD. BA...|2020-06-29 11:41:...|1900-01-01 00:00|\n",
      "|      CROCHET, CHASE|   02/25/1991|         NA|35 VERNON NEWPORT...|2020-06-29 11:41:...|1900-01-01 00:00|\n",
      "|   DAMICO, DENNIS B.|   06/23/1945|564-64-2141|413 E. CYPRESS GL...|2020-06-29 11:41:...|1900-01-01 00:00|\n",
      "|    DANIELS, DANALIE|   04/06/1957|562-08-9316|201 W. Wardlow Ro...|2020-06-29 11:41:...|1900-01-01 00:00|\n",
      "|DELGADO HARO, AMPARO|   03/11/1939|561-29-6191|12229 CHANDLER BL...|2020-06-29 11:41:...|1900-01-01 00:00|\n",
      "|        DIAZ, GEORGE|   02/22/1947|571-70-7023|11500 DOLAN AVE D...|2020-06-29 11:41:...|1900-01-01 00:00|\n",
      "|  EARNSHAW, PATRICIA|   02/16/1950|         NA|800 PROSPECT AVE ...|2020-06-29 11:41:...|1900-01-01 00:00|\n",
      "|      ESPARZA, JESUS|   04/07/1956|568-13-8720|14857 ROSCOE BLVD...|2020-06-29 11:41:...|1900-01-01 00:00|\n",
      "|        EVANS, DINAH|   05/01/1949|  545745881|1580 BROADWAY EL ...|2020-06-29 11:41:...|1900-01-01 00:00|\n",
      "|FITZPATRICK, MARY...|   06/15/1937|549-46-5168|4012 LOMA VISTA R...|2020-06-29 11:41:...|1900-01-01 00:00|\n",
      "|   FRANKLIN, BARBARA|   03/26/1935|         NA|26933 CORNELL ST ...|2020-06-29 11:41:...|1900-01-01 00:00|\n",
      "+--------------------+-------------+-----------+--------------------+--------------------+----------------+\n",
      "only showing top 20 rows\n",
      "\n"
     ]
    }
   ],
   "source": [
    "from pyspark.sql import functions as F\n",
    "df_tgt=df_tgt.withColumn('DW_CREATED_DATE',F.current_timestamp()).withColumn('DW_UPDATED_DATE',F.lit('1900-01-01 00:00'))\n",
    "df_tgt.show()"
   ]
  },
  {
   "cell_type": "code",
   "execution_count": 32,
   "metadata": {},
   "outputs": [
    {
     "name": "stdout",
     "output_type": "stream",
     "text": [
      "+-----------+-------+\n",
      "|    Patient|Address|\n",
      "+-----------+-------+\n",
      "|ABLE, SHARI|    ABC|\n",
      "+-----------+-------+\n",
      "\n"
     ]
    }
   ],
   "source": [
    "#df_src.select('Patient','Address').filter(F.col('Patient')=='ABLE, SHARI').show()\n",
    "df_src=df_src.withColumn('Address',F.when(F.col('Patient')=='ABLE, SHARI','ABC').otherwise(F.col('Address')))\n",
    "df_src.select('Patient','Address').filter(F.col('Patient')=='ABLE, SHARI').show()\n"
   ]
  },
  {
   "cell_type": "code",
   "execution_count": 33,
   "metadata": {},
   "outputs": [
    {
     "data": {
      "text/plain": [
       "DataFrame[Patient_tgt: string, Date of Birth: string, SSN_tgt: string, ADDR_tgt: string, DW_CREATED_DATE: timestamp, DW_UPDATED_DATE: string]"
      ]
     },
     "execution_count": 33,
     "metadata": {},
     "output_type": "execute_result"
    }
   ],
   "source": [
    "df_tgt=df_tgt.withColumnRenamed('Patient','Patient_tgt').withColumnRenamed('ADDR','ADDR_tgt').withColumnRenamed('SSN','SSN_tgt')\n",
    "df_src=df_src.withColumnRenamed('Patient','Patient_src').withColumnRenamed('Address','ADDR_src').withColumnRenamed('SSN','SSN_src').withColumnRenamed('DOB','DOB_src')\n",
    "df_tgt"
   ]
  },
  {
   "cell_type": "code",
   "execution_count": 34,
   "metadata": {},
   "outputs": [
    {
     "name": "stdout",
     "output_type": "stream",
     "text": [
      "+--------------------+-------------+-----------+--------------------+--------------------+---------+\n",
      "|         Patient_tgt|Date of Birth|    SSN_tgt|            Addr_tgt|            ADDR_src|   Action|\n",
      "+--------------------+-------------+-----------+--------------------+--------------------+---------+\n",
      "|  ALCALA, MICHAEL A.|   03/06/1965|554-57-9553|20902 DENKER AVE....|20902 DENKER AVE....|No Action|\n",
      "| BAUTISTA, ANDREA M.|   02/04/1936|         NA|11500 DOLAN AVE D...|11500 DOLAN AVE D...|No Action|\n",
      "|      BROWN, DEBORAH|   02/04/1952|         NA|1046 E. LANCASTER...|1046 E. LANCASTER...|No Action|\n",
      "|        CITI, SHARON|   12/27/1961|548-45-4769|240 EAST 6TH STRE...|240 EAST 6TH STRE...|No Action|\n",
      "|   EBIHARA, MITCHELL|   05/06/1958|         NA|7242 WESTMINSTER ...|7242 WESTMINSTER ...|No Action|\n",
      "|   ENGLANDER, BINNIE|   07/03/1944|         NA|12229 CHANDLER BL...|12229 CHANDLER BL...|No Action|\n",
      "|   ENGLANDER, BINNIE|   07/03/1944|         NA|12229 CHANDLER BL...|12229 CHANDLER BL...|   Update|\n",
      "|   ENGLANDER, BINNIE|   07/03/1944|559-60-2149|12229 CHANDLER BL...|12229 CHANDLER BL...|   Update|\n",
      "|   ENGLANDER, BINNIE|   07/03/1944|559-60-2149|12229 CHANDLER BL...|12229 CHANDLER BL...|No Action|\n",
      "|     GARCIA, PHILLIS|   09/30/1950|         NA|44916 10TH ST WES...|44916 10TH ST WES...|No Action|\n",
      "|     GARCIA, PHILLIS|   09/30/1950|         NA|44916 10TH ST WES...|44916 10TH ST WES...|No Action|\n",
      "|     GARCIA, PHILLIS|   09/30/1950|564-92-1512|44916 10TH ST WES...|44916 10TH ST WES...|No Action|\n",
      "|     GARCIA, PHILLIS|   09/30/1950|564-92-1512|44916 10TH ST WES...|44916 10TH ST WES...|No Action|\n",
      "|GILLIAM, BENJAMIN J.|   05/07/1943|439-62-2386|11500 DOLAN AVENU...|11500 DOLAN AVENU...|No Action|\n",
      "|GILLIAM, BENJAMIN J.|   05/07/1943|439-62-2386|11500 DOLAN AVENU...|11500 DOLAN AVENU...|No Action|\n",
      "|GILLIAM, BENJAMIN J.|   05/07/1943|         NA|11500 DOLAN AVENU...|11500 DOLAN AVENU...|No Action|\n",
      "|GILLIAM, BENJAMIN J.|   05/07/1943|         NA|11500 DOLAN AVENU...|11500 DOLAN AVENU...|No Action|\n",
      "|       GOMEZ, ARTURO|   03/30/1956|         NA|2211 WEST 6TH STR...|2211 WEST 6TH STR...|No Action|\n",
      "|         GOR, WAI Y.|   04/03/1930|         NA|901 WEST SANTA AN...|901 WEST SANTA AN...|No Action|\n",
      "|       GUANKO, MILAN|   10/09/1942|         NA|2211 WEST 6TH STR...|2211 WEST 6TH STR...|No Action|\n",
      "+--------------------+-------------+-----------+--------------------+--------------------+---------+\n",
      "only showing top 20 rows\n",
      "\n"
     ]
    }
   ],
   "source": [
    "\n",
    "df1 = df_tgt.join(df_src.select('Patient_src',\"DOB_src\",'SSN_src','ADDR_src'), df_tgt.Patient_tgt == df_src.Patient_src, how = 'fullouter')\n",
    "         \n",
    "\n",
    "df1=df1.withColumn('Action',F.when((df1.Patient_src.isNotNull()) & (df1.Patient_tgt.isNotNull()) & (df1.ADDR_src!=df1.ADDR_tgt),'Update')\\\n",
    "                   .when((df1.Patient_src.isNull()) | (df1.Patient_tgt.isNull()),'Insert')\\\n",
    "                   .otherwise('No Action'))\n",
    "df1.select('Patient_tgt','Date of Birth','SSN_tgt','Addr_tgt','ADDR_src','Action').show()                   \n",
    "                             \n"
   ]
  },
  {
   "cell_type": "code",
   "execution_count": null,
   "metadata": {},
   "outputs": [],
   "source": [
    "# SCD Type 1\n",
    "df_insert=df1.filter(df1.Action=='Insert').select('Patient_src','DOB_src','SSN_src','ADDR_src')\n",
    "\n",
    "df_update=df1.filter(df1.Action=='Update').select('Patient_tgt','Date of Birth','SSN_tgt','ADDR_src','DW_CREATED_DATE')\n",
    "\n",
    "df_noaction=df1.filter(df1.Action=='No Action').select('Patient_tgt','Date of Birth','SSN_tgt','ADDR_tgt','DW_CREATED_DATE','DW_UPDATED_DATE')\n",
    "\n",
    "#df_noaction.show()\n",
    "#df_update.show()"
   ]
  },
  {
   "cell_type": "code",
   "execution_count": null,
   "metadata": {},
   "outputs": [],
   "source": [
    "from pyspark.sql.functions import lit\n",
    "from pyspark.sql.functions import unix_timestamp, from_unixtime\n",
    "from pyspark.sql import functions as F\n",
    "\n",
    "#Add the Audit columns in Upsert and insert dataframe\n",
    "df_insert = df_insert.withColumn('DW_CREATED_DATE',F.current_timestamp()).withColumn('DW_UPDATED_DATE',F.lit('1900-01-01 00:00'))\n",
    "df_update = df_update.withColumn('DW_UPDATED_DATE',F.current_timestamp())\n"
   ]
  },
  {
   "cell_type": "code",
   "execution_count": null,
   "metadata": {},
   "outputs": [],
   "source": [
    "df_final=df_noaction.union(df_insert)\n",
    "df_final=df_final.union(df_update)\n",
    "df_final.show()"
   ]
  },
  {
   "cell_type": "code",
   "execution_count": 35,
   "metadata": {},
   "outputs": [
    {
     "name": "stdout",
     "output_type": "stream",
     "text": [
      "+-----------+--------+--------------------+\n",
      "|Patient_tgt|ADDR_tgt|     DW_UPDATED_DATE|\n",
      "+-----------+--------+--------------------+\n",
      "|ABLE, SHARI|     ABC|2020-06-29 11:47:...|\n",
      "+-----------+--------+--------------------+\n",
      "\n"
     ]
    }
   ],
   "source": [
    "df_final.select('Patient_tgt','ADDR_tgt','DW_UPDATED_DATE').filter(F.col('Patient_tgt')=='ABLE, SHARI').show()"
   ]
  },
  {
   "cell_type": "code",
   "execution_count": 36,
   "metadata": {},
   "outputs": [
    {
     "name": "stdout",
     "output_type": "stream",
     "text": [
      "+--------------------+-------------+-----------+--------------------+--------------------+----------------+------+\n",
      "|         Patient_tgt|Date of Birth|    SSN_tgt|            ADDR_tgt|     DW_CREATED_DATE| DW_UPDATED_DATE|Active|\n",
      "+--------------------+-------------+-----------+--------------------+--------------------+----------------+------+\n",
      "|     BARRIENTOS, EVA|   05/22/1933|619-12-5310|8203 TELEGRAPH RD...|2020-06-29 11:52:...|1900-01-01 00:00|     1|\n",
      "|  BOWIE, REGINALD D.|   10/06/1955|270-38-5318|7716 PICKERING AV...|2020-06-29 11:52:...|1900-01-01 00:00|     1|\n",
      "|  CANDELARIA, VICTOR|   10/29/1961|         NA|11500 DOLAN AVENU...|2020-06-29 11:52:...|1900-01-01 00:00|     1|\n",
      "|  CANDELAS, REYNALDO|   11/12/1953|         NA|12120 CHANDLER BL...|2020-06-29 11:52:...|1900-01-01 00:00|     1|\n",
      "|      CANTA, ARMINDA|   08/31/1934|         NA|3401 LEMON ST. RI...|2020-06-29 11:52:...|1900-01-01 00:00|     1|\n",
      "|        CANTU, ELISA|   10/07/1945|         NA|1717 S WINERY AVE...|2020-06-29 11:52:...|1900-01-01 00:00|     1|\n",
      "|  CASTRO, JENNIE (I)|   06/20/1931|         NA|12111 CHANDLER BL...|2020-06-29 11:52:...|1900-01-01 00:00|     1|\n",
      "|       CHAO, FIDELIA|   12/16/1940|549-58-9561|9925 LA ALAMEDA A...|2020-06-29 11:52:...|1900-01-01 00:00|     1|\n",
      "|    COPE, LETCHER H.|   08/18/1924|         NA|6817 N. ROWELL AV...|2020-06-29 11:52:...|1900-01-01 00:00|     1|\n",
      "|  COTTER, JACQUELINE|   04/18/1963|564-17-8110|5400 STINE RD. BA...|2020-06-29 11:52:...|1900-01-01 00:00|     1|\n",
      "|      CROCHET, CHASE|   02/25/1991|         NA|35 VERNON NEWPORT...|2020-06-29 11:52:...|1900-01-01 00:00|     1|\n",
      "|   DAMICO, DENNIS B.|   06/23/1945|564-64-2141|413 E. CYPRESS GL...|2020-06-29 11:52:...|1900-01-01 00:00|     1|\n",
      "|    DANIELS, DANALIE|   04/06/1957|562-08-9316|201 W. Wardlow Ro...|2020-06-29 11:52:...|1900-01-01 00:00|     1|\n",
      "|DELGADO HARO, AMPARO|   03/11/1939|561-29-6191|12229 CHANDLER BL...|2020-06-29 11:52:...|1900-01-01 00:00|     1|\n",
      "|        DIAZ, GEORGE|   02/22/1947|571-70-7023|11500 DOLAN AVE D...|2020-06-29 11:52:...|1900-01-01 00:00|     1|\n",
      "|  EARNSHAW, PATRICIA|   02/16/1950|         NA|800 PROSPECT AVE ...|2020-06-29 11:52:...|1900-01-01 00:00|     1|\n",
      "|      ESPARZA, JESUS|   04/07/1956|568-13-8720|14857 ROSCOE BLVD...|2020-06-29 11:52:...|1900-01-01 00:00|     1|\n",
      "|        EVANS, DINAH|   05/01/1949|  545745881|1580 BROADWAY EL ...|2020-06-29 11:52:...|1900-01-01 00:00|     1|\n",
      "|FITZPATRICK, MARY...|   06/15/1937|549-46-5168|4012 LOMA VISTA R...|2020-06-29 11:52:...|1900-01-01 00:00|     1|\n",
      "|   FRANKLIN, BARBARA|   03/26/1935|         NA|26933 CORNELL ST ...|2020-06-29 11:52:...|1900-01-01 00:00|     1|\n",
      "+--------------------+-------------+-----------+--------------------+--------------------+----------------+------+\n",
      "only showing top 20 rows\n",
      "\n"
     ]
    }
   ],
   "source": [
    "#scd type 2\n",
    "df_tgt=df_tgt.withColumn('Active',F.lit(1))\n",
    "df_tgt.show()"
   ]
  },
  {
   "cell_type": "code",
   "execution_count": 37,
   "metadata": {},
   "outputs": [
    {
     "name": "stdout",
     "output_type": "stream",
     "text": [
      "+--------------------+-------------+-----------+--------------------+--------------------+------+---------+\n",
      "|         Patient_tgt|Date of Birth|    SSN_tgt|            Addr_tgt|            ADDR_src|Active|   Action|\n",
      "+--------------------+-------------+-----------+--------------------+--------------------+------+---------+\n",
      "|  ALCALA, MICHAEL A.|   03/06/1965|554-57-9553|20902 DENKER AVE....|20902 DENKER AVE....|     1|No Action|\n",
      "| BAUTISTA, ANDREA M.|   02/04/1936|         NA|11500 DOLAN AVE D...|11500 DOLAN AVE D...|     1|No Action|\n",
      "|      BROWN, DEBORAH|   02/04/1952|         NA|1046 E. LANCASTER...|1046 E. LANCASTER...|     1|No Action|\n",
      "|        CITI, SHARON|   12/27/1961|548-45-4769|240 EAST 6TH STRE...|240 EAST 6TH STRE...|     1|No Action|\n",
      "|   EBIHARA, MITCHELL|   05/06/1958|         NA|7242 WESTMINSTER ...|7242 WESTMINSTER ...|     1|No Action|\n",
      "|   ENGLANDER, BINNIE|   07/03/1944|         NA|12229 CHANDLER BL...|12229 CHANDLER BL...|     1|No Action|\n",
      "|   ENGLANDER, BINNIE|   07/03/1944|         NA|12229 CHANDLER BL...|12229 CHANDLER BL...|     1|   Upsert|\n",
      "|   ENGLANDER, BINNIE|   07/03/1944|559-60-2149|12229 CHANDLER BL...|12229 CHANDLER BL...|     1|   Upsert|\n",
      "|   ENGLANDER, BINNIE|   07/03/1944|559-60-2149|12229 CHANDLER BL...|12229 CHANDLER BL...|     1|No Action|\n",
      "|     GARCIA, PHILLIS|   09/30/1950|         NA|44916 10TH ST WES...|44916 10TH ST WES...|     1|No Action|\n",
      "|     GARCIA, PHILLIS|   09/30/1950|         NA|44916 10TH ST WES...|44916 10TH ST WES...|     1|No Action|\n",
      "|     GARCIA, PHILLIS|   09/30/1950|564-92-1512|44916 10TH ST WES...|44916 10TH ST WES...|     1|No Action|\n",
      "|     GARCIA, PHILLIS|   09/30/1950|564-92-1512|44916 10TH ST WES...|44916 10TH ST WES...|     1|No Action|\n",
      "|GILLIAM, BENJAMIN J.|   05/07/1943|439-62-2386|11500 DOLAN AVENU...|11500 DOLAN AVENU...|     1|No Action|\n",
      "|GILLIAM, BENJAMIN J.|   05/07/1943|439-62-2386|11500 DOLAN AVENU...|11500 DOLAN AVENU...|     1|No Action|\n",
      "|GILLIAM, BENJAMIN J.|   05/07/1943|         NA|11500 DOLAN AVENU...|11500 DOLAN AVENU...|     1|No Action|\n",
      "|GILLIAM, BENJAMIN J.|   05/07/1943|         NA|11500 DOLAN AVENU...|11500 DOLAN AVENU...|     1|No Action|\n",
      "|       GOMEZ, ARTURO|   03/30/1956|         NA|2211 WEST 6TH STR...|2211 WEST 6TH STR...|     1|No Action|\n",
      "|         GOR, WAI Y.|   04/03/1930|         NA|901 WEST SANTA AN...|901 WEST SANTA AN...|     1|No Action|\n",
      "|       GUANKO, MILAN|   10/09/1942|         NA|2211 WEST 6TH STR...|2211 WEST 6TH STR...|     1|No Action|\n",
      "+--------------------+-------------+-----------+--------------------+--------------------+------+---------+\n",
      "only showing top 20 rows\n",
      "\n"
     ]
    }
   ],
   "source": [
    "df2 = df_tgt.join(df_src.select('Patient_src',\"DOB_src\",'SSN_src','ADDR_src'), df_tgt.Patient_tgt == df_src.Patient_src, how = 'fullouter')\n",
    "         \n",
    "\n",
    "df2=df2.withColumn('Action',F.when((df2.Patient_src.isNotNull()) & (df2.Patient_tgt.isNotNull()) & (df2.ADDR_src!=df2.ADDR_tgt),'Upsert')\\\n",
    "                   .when((df2.Patient_src.isNull()) | (df2.Patient_tgt.isNull()),'Insert')\\\n",
    "                   .when(df2.Active==0,'Inactive')\n",
    "                   .otherwise('No Action'))\n",
    "df2.select('Patient_tgt','Date of Birth','SSN_tgt','Addr_tgt','ADDR_src','Active','Action').show()     "
   ]
  },
  {
   "cell_type": "code",
   "execution_count": 38,
   "metadata": {},
   "outputs": [],
   "source": [
    "\n",
    "df2_insert=df2.filter(df2.Action=='Insert').select('Patient_src','DOB_src','SSN_src','ADDR_src')\n",
    "\n",
    "df2_upsert=df2.filter(df2.Action=='Upsert').select('Patient_tgt','Date of Birth','SSN_tgt','ADDR_src')\n",
    "\n"
   ]
  },
  {
   "cell_type": "code",
   "execution_count": 39,
   "metadata": {},
   "outputs": [
    {
     "name": "stdout",
     "output_type": "stream",
     "text": [
      "+-------------------+-------------+-----------+--------------------+--------------------+----------------+------+-------------------+----------+-----------+--------------------+---------+\n",
      "|        Patient_tgt|Date of Birth|    SSN_tgt|            ADDR_tgt|     DW_CREATED_DATE| DW_UPDATED_DATE|Active|        Patient_src|   DOB_src|    SSN_src|            ADDR_src|   Action|\n",
      "+-------------------+-------------+-----------+--------------------+--------------------+----------------+------+-------------------+----------+-----------+--------------------+---------+\n",
      "| ALCALA, MICHAEL A.|   03/06/1965|554-57-9553|20902 DENKER AVE....|2020-06-29 11:55:...|1900-01-01 00:00|     1| ALCALA, MICHAEL A.|03/06/1965|554-57-9553|20902 DENKER AVE....|No Action|\n",
      "|BAUTISTA, ANDREA M.|   02/04/1936|         NA|11500 DOLAN AVE D...|2020-06-29 11:55:...|1900-01-01 00:00|     1|BAUTISTA, ANDREA M.|02/04/1936|         NA|11500 DOLAN AVE D...|No Action|\n",
      "|     BROWN, DEBORAH|   02/04/1952|         NA|1046 E. LANCASTER...|2020-06-29 11:55:...|1900-01-01 00:00|     1|     BROWN, DEBORAH|02/04/1952|         NA|1046 E. LANCASTER...|No Action|\n",
      "|       CITI, SHARON|   12/27/1961|548-45-4769|240 EAST 6TH STRE...|2020-06-29 11:55:...|1900-01-01 00:00|     1|       CITI, SHARON|12/27/1961|548-45-4769|240 EAST 6TH STRE...|No Action|\n",
      "|  EBIHARA, MITCHELL|   05/06/1958|         NA|7242 WESTMINSTER ...|2020-06-29 11:55:...|1900-01-01 00:00|     1|  EBIHARA, MITCHELL|05/06/1958|         NA|7242 WESTMINSTER ...|No Action|\n",
      "|  ENGLANDER, BINNIE|   07/03/1944|         NA|12229 CHANDLER BL...|2020-06-29 11:55:...|1900-01-01 00:00|     1|  ENGLANDER, BINNIE|07/03/1944|         NA|12229 CHANDLER BL...|No Action|\n",
      "|  ENGLANDER, BINNIE|   07/03/1944|         NA|12229 CHANDLER BL...|2020-06-29 11:55:...|1900-01-01 00:00|     1|  ENGLANDER, BINNIE|07/03/1944|559-60-2149|12229 CHANDLER BL...|   Upsert|\n",
      "|  ENGLANDER, BINNIE|   07/03/1944|         NA|12229 CHANDLER BL...|2020-06-29 11:55:...|1900-01-01 00:00|     1|  ENGLANDER, BINNIE|07/03/1944|         NA|12229 CHANDLER BL...|   Upsert|\n",
      "|  ENGLANDER, BINNIE|   07/03/1944|         NA|12229 CHANDLER BL...|2020-06-29 11:55:...|1900-01-01 00:00|     1|  ENGLANDER, BINNIE|07/03/1944|559-60-2149|12229 CHANDLER BL...|No Action|\n",
      "|  ENGLANDER, BINNIE|   07/03/1944|559-60-2149|12229 CHANDLER BL...|2020-06-29 11:55:...|1900-01-01 00:00|     1|  ENGLANDER, BINNIE|07/03/1944|         NA|12229 CHANDLER BL...|No Action|\n",
      "|  ENGLANDER, BINNIE|   07/03/1944|559-60-2149|12229 CHANDLER BL...|2020-06-29 11:55:...|1900-01-01 00:00|     1|  ENGLANDER, BINNIE|07/03/1944|559-60-2149|12229 CHANDLER BL...|   Upsert|\n",
      "|  ENGLANDER, BINNIE|   07/03/1944|559-60-2149|12229 CHANDLER BL...|2020-06-29 11:55:...|1900-01-01 00:00|     1|  ENGLANDER, BINNIE|07/03/1944|         NA|12229 CHANDLER BL...|   Upsert|\n",
      "|  ENGLANDER, BINNIE|   07/03/1944|559-60-2149|12229 CHANDLER BL...|2020-06-29 11:55:...|1900-01-01 00:00|     1|  ENGLANDER, BINNIE|07/03/1944|559-60-2149|12229 CHANDLER BL...|No Action|\n",
      "|    GARCIA, PHILLIS|   09/30/1950|         NA|44916 10TH ST WES...|2020-06-29 11:55:...|1900-01-01 00:00|     1|    GARCIA, PHILLIS|09/30/1950|         NA|44916 10TH ST WES...|No Action|\n",
      "|    GARCIA, PHILLIS|   09/30/1950|         NA|44916 10TH ST WES...|2020-06-29 11:55:...|1900-01-01 00:00|     1|    GARCIA, PHILLIS|09/30/1950|564-92-1512|44916 10TH ST WES...|No Action|\n",
      "|    GARCIA, PHILLIS|   09/30/1950|         NA|44916 10TH ST WES...|2020-06-29 11:55:...|1900-01-01 00:00|     1|    GARCIA, PHILLIS|09/30/1950|         NA|44916 10TH ST WES...|No Action|\n",
      "|    GARCIA, PHILLIS|   09/30/1950|         NA|44916 10TH ST WES...|2020-06-29 11:55:...|1900-01-01 00:00|     1|    GARCIA, PHILLIS|09/30/1950|564-92-1512|44916 10TH ST WES...|No Action|\n",
      "|    GARCIA, PHILLIS|   09/30/1950|564-92-1512|44916 10TH ST WES...|2020-06-29 11:55:...|1900-01-01 00:00|     1|    GARCIA, PHILLIS|09/30/1950|         NA|44916 10TH ST WES...|No Action|\n",
      "|    GARCIA, PHILLIS|   09/30/1950|564-92-1512|44916 10TH ST WES...|2020-06-29 11:55:...|1900-01-01 00:00|     1|    GARCIA, PHILLIS|09/30/1950|564-92-1512|44916 10TH ST WES...|No Action|\n",
      "|    GARCIA, PHILLIS|   09/30/1950|564-92-1512|44916 10TH ST WES...|2020-06-29 11:55:...|1900-01-01 00:00|     1|    GARCIA, PHILLIS|09/30/1950|         NA|44916 10TH ST WES...|No Action|\n",
      "+-------------------+-------------+-----------+--------------------+--------------------+----------------+------+-------------------+----------+-----------+--------------------+---------+\n",
      "only showing top 20 rows\n",
      "\n"
     ]
    }
   ],
   "source": [
    "df_final2=df_tgt.join(df2.select('Patient_src','DOB_src','SSN_src','ADDR_src','Action'), (df_tgt.Patient_tgt == df2.Patient_src) & (df2.Active==1), how = 'left_outer')\n",
    "df_final2.show()"
   ]
  },
  {
   "cell_type": "code",
   "execution_count": 40,
   "metadata": {},
   "outputs": [
    {
     "name": "stdout",
     "output_type": "stream",
     "text": [
      "+-----------+-------------+---------+--------------------+--------+------+------+\n",
      "|Patient_tgt|Date of Birth|  SSN_tgt|            ADDR_tgt|ADDR_src|Active|Action|\n",
      "+-----------+-------------+---------+--------------------+--------+------+------+\n",
      "|ABLE, SHARI|   06/06/1939|566488725|225 North Crescen...|     ABC|     1|Upsert|\n",
      "+-----------+-------------+---------+--------------------+--------+------+------+\n",
      "\n"
     ]
    }
   ],
   "source": [
    "df_final2.select('Patient_tgt','Date of Birth','SSN_tgt','ADDR_tgt','ADDR_src','Active','Action').filter(F.col('Patient_tgt')=='ABLE, SHARI').show()"
   ]
  },
  {
   "cell_type": "code",
   "execution_count": 41,
   "metadata": {},
   "outputs": [
    {
     "name": "stdout",
     "output_type": "stream",
     "text": [
      "+-------------------+-------------+-----------+--------------------+------+--------------------+--------------------+\n",
      "|        Patient_tgt|Date of Birth|    SSN_tgt|            ADDR_tgt|Active|     DW_CREATED_DATE|     DW_UPDATED_DATE|\n",
      "+-------------------+-------------+-----------+--------------------+------+--------------------+--------------------+\n",
      "| ALCALA, MICHAEL A.|   03/06/1965|554-57-9553|20902 DENKER AVE....|     1|2020-06-29 11:56:...|    1900-01-01 00:00|\n",
      "|BAUTISTA, ANDREA M.|   02/04/1936|         NA|11500 DOLAN AVE D...|     1|2020-06-29 11:56:...|    1900-01-01 00:00|\n",
      "|     BROWN, DEBORAH|   02/04/1952|         NA|1046 E. LANCASTER...|     1|2020-06-29 11:56:...|    1900-01-01 00:00|\n",
      "|       CITI, SHARON|   12/27/1961|548-45-4769|240 EAST 6TH STRE...|     1|2020-06-29 11:56:...|    1900-01-01 00:00|\n",
      "|  EBIHARA, MITCHELL|   05/06/1958|         NA|7242 WESTMINSTER ...|     1|2020-06-29 11:56:...|    1900-01-01 00:00|\n",
      "|  ENGLANDER, BINNIE|   07/03/1944|         NA|12229 CHANDLER BL...|     1|2020-06-29 11:56:...|    1900-01-01 00:00|\n",
      "|  ENGLANDER, BINNIE|   07/03/1944|         NA|12229 CHANDLER BL...|     0|2020-06-29 11:56:...|2020-06-29 11:56:...|\n",
      "|  ENGLANDER, BINNIE|   07/03/1944|         NA|12229 CHANDLER BL...|     0|2020-06-29 11:56:...|2020-06-29 11:56:...|\n",
      "|  ENGLANDER, BINNIE|   07/03/1944|         NA|12229 CHANDLER BL...|     1|2020-06-29 11:56:...|    1900-01-01 00:00|\n",
      "|  ENGLANDER, BINNIE|   07/03/1944|559-60-2149|12229 CHANDLER BL...|     1|2020-06-29 11:56:...|    1900-01-01 00:00|\n",
      "|  ENGLANDER, BINNIE|   07/03/1944|559-60-2149|12229 CHANDLER BL...|     0|2020-06-29 11:56:...|2020-06-29 11:56:...|\n",
      "|  ENGLANDER, BINNIE|   07/03/1944|559-60-2149|12229 CHANDLER BL...|     0|2020-06-29 11:56:...|2020-06-29 11:56:...|\n",
      "|  ENGLANDER, BINNIE|   07/03/1944|559-60-2149|12229 CHANDLER BL...|     1|2020-06-29 11:56:...|    1900-01-01 00:00|\n",
      "|    GARCIA, PHILLIS|   09/30/1950|         NA|44916 10TH ST WES...|     1|2020-06-29 11:56:...|    1900-01-01 00:00|\n",
      "|    GARCIA, PHILLIS|   09/30/1950|         NA|44916 10TH ST WES...|     1|2020-06-29 11:56:...|    1900-01-01 00:00|\n",
      "|    GARCIA, PHILLIS|   09/30/1950|         NA|44916 10TH ST WES...|     1|2020-06-29 11:56:...|    1900-01-01 00:00|\n",
      "|    GARCIA, PHILLIS|   09/30/1950|         NA|44916 10TH ST WES...|     1|2020-06-29 11:56:...|    1900-01-01 00:00|\n",
      "|    GARCIA, PHILLIS|   09/30/1950|564-92-1512|44916 10TH ST WES...|     1|2020-06-29 11:56:...|    1900-01-01 00:00|\n",
      "|    GARCIA, PHILLIS|   09/30/1950|564-92-1512|44916 10TH ST WES...|     1|2020-06-29 11:56:...|    1900-01-01 00:00|\n",
      "|    GARCIA, PHILLIS|   09/30/1950|564-92-1512|44916 10TH ST WES...|     1|2020-06-29 11:56:...|    1900-01-01 00:00|\n",
      "+-------------------+-------------+-----------+--------------------+------+--------------------+--------------------+\n",
      "only showing top 20 rows\n",
      "\n"
     ]
    }
   ],
   "source": [
    "df_final2 = df_final2.withColumn('Active',F.when((df_final2.Action == 'Upsert') | (df_final2.Action == 'Inactive'),0).otherwise(df_final2.Active)).withColumn('DW_UPDATED_DATE',F.when((df_final2.Action == 'Upsert') | (df_final2.Action == 'Inactive'),F.current_timestamp()).otherwise(df_final2.DW_UPDATED_DATE))\n",
    "df_final2= df_final2.select('Patient_tgt','Date of Birth','SSN_tgt','ADDR_tgt','Active','DW_CREATED_DATE','DW_UPDATED_DATE')\n",
    "df_final2.show()"
   ]
  },
  {
   "cell_type": "code",
   "execution_count": 42,
   "metadata": {
    "scrolled": true
   },
   "outputs": [
    {
     "name": "stdout",
     "output_type": "stream",
     "text": [
      "+--------------------+----------+-----------+--------------------+------+--------------------+----------------+\n",
      "|         Patient_src|   DOB_src|    SSN_src|            ADDR_src|ACTIVE|     DW_CREATED_DATE| DW_UPDATED_DATE|\n",
      "+--------------------+----------+-----------+--------------------+------+--------------------+----------------+\n",
      "|   ENGLANDER, BINNIE|07/03/1944|         NA|12229 CHANDLER BL...|     1|2020-06-29 11:58:...|1900-01-01 00:00|\n",
      "|   ENGLANDER, BINNIE|07/03/1944|559-60-2149|12229 CHANDLER BL...|     1|2020-06-29 11:58:...|1900-01-01 00:00|\n",
      "|          KIM, HELEN|09/15/1939|563-33-6990|2441 W Orangethro...|     1|2020-06-29 11:58:...|1900-01-01 00:00|\n",
      "|          KIM, HELEN|09/15/1939|         NA|2441 ORANGETHROPE...|     1|2020-06-29 11:58:...|1900-01-01 00:00|\n",
      "|  CROUCH, MICHAEL D.|03/10/1973|572-49-1949|6025 PINE AVE. MA...|     1|2020-06-29 11:58:...|1900-01-01 00:00|\n",
      "|  CROUCH, MICHAEL D.|03/10/1973|572-49-1949|630 W SEPULVEDA B...|     1|2020-06-29 11:58:...|1900-01-01 00:00|\n",
      "|       ENVALL, FREDA|01/08/1922|         NA|26933 CORNELL STR...|     1|2020-06-29 11:58:...|1900-01-01 00:00|\n",
      "|       ENVALL, FREDA|01/08/1922|139-16-2119|26933 CORNELL ST ...|     1|2020-06-29 11:58:...|1900-01-01 00:00|\n",
      "|       GARCIA, MARIA|05/24/1949|568-84-7940|501 S BEACH BLVD ...|     1|2020-06-29 11:58:...|1900-01-01 00:00|\n",
      "|       GARCIA, MARIA|09/13/1948|         NA|1340 S. HIGHLAND ...|     1|2020-06-29 11:58:...|1900-01-01 00:00|\n",
      "| YEGZARYAN, GYULIZAR|08/11/1924|         NA|605 W. BROADWAY G...|     1|2020-06-29 11:58:...|1900-01-01 00:00|\n",
      "| YEGZARYAN, GYULIZAR|08/11/1924|         NA|15105 Mission Hil...|     1|2020-06-29 11:58:...|1900-01-01 00:00|\n",
      "| YEGZARYAN, GYULIZAR|08/11/1924|615-26-6328|330 MISSION RD GL...|     1|2020-06-29 11:58:...|1900-01-01 00:00|\n",
      "| YEGZARYAN, GYULIZAR|08/11/1924|615-26-6328|15105 Mission Hil...|     1|2020-06-29 11:58:...|1900-01-01 00:00|\n",
      "| YEGZARYAN, GYULIZAR|08/11/1924|         NA|330 MISSION RD GL...|     1|2020-06-29 11:58:...|1900-01-01 00:00|\n",
      "| YEGZARYAN, GYULIZAR|08/11/1924|         NA|605 W. BROADWAY G...|     1|2020-06-29 11:58:...|1900-01-01 00:00|\n",
      "|     BLAKE, JENNIFER|08/11/1946|         NA|3535 OVERLAND AVE...|     1|2020-06-29 11:58:...|1900-01-01 00:00|\n",
      "|     BLAKE, JENNIFER|08/11/1946|         NA|2312 W 8th St LOS...|     1|2020-06-29 11:58:...|1900-01-01 00:00|\n",
      "|CABALLERO DE TREV...|07/19/1953|572-924-412|7324 CANBY AVE. R...|     1|2020-06-29 11:58:...|1900-01-01 00:00|\n",
      "|CABALLERO DE TREV...|07/19/1953|         NA|7324 CANBY AVE RE...|     1|2020-06-29 11:58:...|1900-01-01 00:00|\n",
      "+--------------------+----------+-----------+--------------------+------+--------------------+----------------+\n",
      "only showing top 20 rows\n",
      "\n"
     ]
    }
   ],
   "source": [
    "\n",
    "df2_insert=df2_insert.union(df2_upsert)\n",
    "df2_insert = df2_insert.withColumn('ACTIVE',F.lit(1)).withColumn('DW_CREATED_DATE',F.current_timestamp()) \\\n",
    ".withColumn('DW_UPDATED_DATE',F.lit('1900-01-01 00:00'))\n",
    "\n",
    "\n",
    "df2_insert.show()"
   ]
  },
  {
   "cell_type": "code",
   "execution_count": 43,
   "metadata": {
    "scrolled": true
   },
   "outputs": [
    {
     "name": "stdout",
     "output_type": "stream",
     "text": [
      "+-------------------+-------------+-----------+--------------------+------+--------------------+--------------------+\n",
      "|        Patient_tgt|Date of Birth|    SSN_tgt|            ADDR_tgt|Active|     DW_CREATED_DATE|     DW_UPDATED_DATE|\n",
      "+-------------------+-------------+-----------+--------------------+------+--------------------+--------------------+\n",
      "| ALCALA, MICHAEL A.|   03/06/1965|554-57-9553|20902 DENKER AVE....|     1|2020-06-29 11:59:...|    1900-01-01 00:00|\n",
      "|BAUTISTA, ANDREA M.|   02/04/1936|         NA|11500 DOLAN AVE D...|     1|2020-06-29 11:59:...|    1900-01-01 00:00|\n",
      "|     BROWN, DEBORAH|   02/04/1952|         NA|1046 E. LANCASTER...|     1|2020-06-29 11:59:...|    1900-01-01 00:00|\n",
      "|       CITI, SHARON|   12/27/1961|548-45-4769|240 EAST 6TH STRE...|     1|2020-06-29 11:59:...|    1900-01-01 00:00|\n",
      "|  EBIHARA, MITCHELL|   05/06/1958|         NA|7242 WESTMINSTER ...|     1|2020-06-29 11:59:...|    1900-01-01 00:00|\n",
      "|  ENGLANDER, BINNIE|   07/03/1944|         NA|12229 CHANDLER BL...|     1|2020-06-29 11:59:...|    1900-01-01 00:00|\n",
      "|  ENGLANDER, BINNIE|   07/03/1944|         NA|12229 CHANDLER BL...|     0|2020-06-29 11:59:...|2020-06-29 11:59:...|\n",
      "|  ENGLANDER, BINNIE|   07/03/1944|         NA|12229 CHANDLER BL...|     0|2020-06-29 11:59:...|2020-06-29 11:59:...|\n",
      "|  ENGLANDER, BINNIE|   07/03/1944|         NA|12229 CHANDLER BL...|     1|2020-06-29 11:59:...|    1900-01-01 00:00|\n",
      "|  ENGLANDER, BINNIE|   07/03/1944|559-60-2149|12229 CHANDLER BL...|     1|2020-06-29 11:59:...|    1900-01-01 00:00|\n",
      "|  ENGLANDER, BINNIE|   07/03/1944|559-60-2149|12229 CHANDLER BL...|     0|2020-06-29 11:59:...|2020-06-29 11:59:...|\n",
      "|  ENGLANDER, BINNIE|   07/03/1944|559-60-2149|12229 CHANDLER BL...|     0|2020-06-29 11:59:...|2020-06-29 11:59:...|\n",
      "|  ENGLANDER, BINNIE|   07/03/1944|559-60-2149|12229 CHANDLER BL...|     1|2020-06-29 11:59:...|    1900-01-01 00:00|\n",
      "|    GARCIA, PHILLIS|   09/30/1950|         NA|44916 10TH ST WES...|     1|2020-06-29 11:59:...|    1900-01-01 00:00|\n",
      "|    GARCIA, PHILLIS|   09/30/1950|         NA|44916 10TH ST WES...|     1|2020-06-29 11:59:...|    1900-01-01 00:00|\n",
      "|    GARCIA, PHILLIS|   09/30/1950|         NA|44916 10TH ST WES...|     1|2020-06-29 11:59:...|    1900-01-01 00:00|\n",
      "|    GARCIA, PHILLIS|   09/30/1950|         NA|44916 10TH ST WES...|     1|2020-06-29 11:59:...|    1900-01-01 00:00|\n",
      "|    GARCIA, PHILLIS|   09/30/1950|564-92-1512|44916 10TH ST WES...|     1|2020-06-29 11:59:...|    1900-01-01 00:00|\n",
      "|    GARCIA, PHILLIS|   09/30/1950|564-92-1512|44916 10TH ST WES...|     1|2020-06-29 11:59:...|    1900-01-01 00:00|\n",
      "|    GARCIA, PHILLIS|   09/30/1950|564-92-1512|44916 10TH ST WES...|     1|2020-06-29 11:59:...|    1900-01-01 00:00|\n",
      "+-------------------+-------------+-----------+--------------------+------+--------------------+--------------------+\n",
      "only showing top 20 rows\n",
      "\n"
     ]
    }
   ],
   "source": [
    "df_final2=df_final2.union(df2_insert)\n",
    "df_final2.show()"
   ]
  },
  {
   "cell_type": "code",
   "execution_count": 44,
   "metadata": {},
   "outputs": [
    {
     "name": "stdout",
     "output_type": "stream",
     "text": [
      "+-----------+-------------+---------+--------------------+------+--------------------+--------------------+\n",
      "|Patient_tgt|Date of Birth|  SSN_tgt|            ADDR_tgt|Active|     DW_CREATED_DATE|     DW_UPDATED_DATE|\n",
      "+-----------+-------------+---------+--------------------+------+--------------------+--------------------+\n",
      "|ABLE, SHARI|   06/06/1939|566488725|225 North Crescen...|     0|2020-06-29 12:00:...|2020-06-29 12:00:...|\n",
      "|ABLE, SHARI|   06/06/1939|566488725|                 ABC|     1|2020-06-29 12:00:...|    1900-01-01 00:00|\n",
      "+-----------+-------------+---------+--------------------+------+--------------------+--------------------+\n",
      "\n"
     ]
    }
   ],
   "source": [
    "df_final2.filter(F.col('Patient_tgt')=='ABLE, SHARI').show()"
   ]
  },
  {
   "cell_type": "code",
   "execution_count": null,
   "metadata": {},
   "outputs": [],
   "source": []
  }
 ],
 "metadata": {
  "kernelspec": {
   "display_name": "Python 3",
   "language": "python",
   "name": "python3"
  },
  "language_info": {
   "codemirror_mode": {
    "name": "ipython",
    "version": 3
   },
   "file_extension": ".py",
   "mimetype": "text/x-python",
   "name": "python",
   "nbconvert_exporter": "python",
   "pygments_lexer": "ipython3",
   "version": "3.6.5"
  }
 },
 "nbformat": 4,
 "nbformat_minor": 2
}
